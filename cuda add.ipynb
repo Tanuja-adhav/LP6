{
  "nbformat": 4,
  "nbformat_minor": 0,
  "metadata": {
    "colab": {
      "provenance": [],
      "gpuType": "T4"
    },
    "kernelspec": {
      "name": "python3",
      "display_name": "Python 3"
    },
    "language_info": {
      "name": "python"
    },
    "accelerator": "GPU"
  },
  "cells": [
    {
      "cell_type": "code",
      "execution_count": 1,
      "metadata": {
        "colab": {
          "base_uri": "https://localhost:8080/"
        },
        "id": "5Gu9QQnwYeqd",
        "outputId": "9ecc42e7-1e60-41e7-94cf-695368e89627"
      },
      "outputs": [
        {
          "output_type": "stream",
          "name": "stdout",
          "text": [
            "CPU Vector Addition Time: 0.0692 seconds\n",
            "GPU Vector Addition Time: 1.1698 seconds\n"
          ]
        }
      ],
      "source": [
        "import cupy as cp\n",
        "import numpy as np\n",
        "import time\n",
        "# Size of large vectors\n",
        "N = 10000000\n",
        "# Create large vectors on CPU\n",
        "a_cpu = np.random.rand(N).astype(np.float32)\n",
        "b_cpu = np.random.rand(N).astype(np.float32)\n",
        "# ---------- CPU ----------\n",
        "start_cpu = time.time()\n",
        "c_cpu = a_cpu + b_cpu\n",
        "end_cpu = time.time()\n",
        "print(f\"CPU Vector Addition Time: {end_cpu - start_cpu:.4f} seconds\")\n",
        "# ---------- GPU ----------\n",
        "a_gpu = cp.asarray(a_cpu)\n",
        "b_gpu = cp.asarray(b_cpu)\n",
        "start_gpu = time.time()\n",
        "c_gpu = a_gpu + b_gpu\n",
        "cp.cuda.Device(0).synchronize()  # Ensure GPU is done\n",
        "end_gpu = time.time()\n",
        "print(f\"GPU Vector Addition Time: {end_gpu - start_gpu:.4f} seconds\")\n"
      ]
    },
    {
      "cell_type": "code",
      "source": [],
      "metadata": {
        "id": "oRdgSyTBYlnU"
      },
      "execution_count": null,
      "outputs": []
    }
  ]
}